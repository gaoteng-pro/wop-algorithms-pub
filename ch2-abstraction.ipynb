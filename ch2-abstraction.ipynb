{
 "cells": [
  {
   "cell_type": "markdown",
   "metadata": {},
   "source": [
    "# 第二章 抽象"
   ]
  },
  {
   "cell_type": "markdown",
   "metadata": {},
   "source": [
    "**抽象** 是最重要的思维方法之一。\n",
    "\n",
    "> 抽象是从众多的事物中抽取出共同的、本质性的特征，而舍弃其非本质的特征的过程。具体地说，抽象就是人们在实践的基础上，对于丰富的感性素材通过去粗取精、去伪存真、由此及彼、由表及里的加工制作，形成概念、判断、推理等思维形式，以反映事物的本质和规律的方法。\n",
    "> \n",
    "> &#x2013; 冯回祥，思维方法与数学教学 思维方法在小学数学教学中的应用，华中科技大学出版社，2018.01，第100-101页\n",
    "\n",
    "抽象具有以下显著价值：\n",
    "\n",
    "1.  抽取共同和本质性特征、舍弃非本质特征的过程，有助于找到问题的解决方案；\n",
    "2.  事物的本质和规律具有普适性，针对本质性问题的解决方案具有通用性。\n",
    "\n",
    "在计算机科学领域，抽象思维运用非常广泛，尤其在把现实世界问题转变为计算机可解决问题的过程中，我们需要理解问题→抽取问题本质→建立可计算模型→使模型通用化，这一系列的思维都与抽象有关。"
   ]
  },
  {
   "cell_type": "markdown",
   "metadata": {},
   "source": [
    "## 1 理解问题与建模"
   ]
  },
  {
   "cell_type": "markdown",
   "metadata": {},
   "source": [
    "**例题1**：如何实现一个计算器？\n",
    "\n",
    "> 计算器的 *实质* 是什么？或者，各种形态的计算器中不变的部分是什么？\n",
    "\n",
    "**分析** ：\n",
    "\n",
    "-   计算器的基本功能可以抽象为 *输入一个可计算表达式 → 计算表达式的值 → 输出结果值* 。\n",
    "-   其中 *计算表达式的值* ，或者 *表达式求值* 是不变的核心部分，而输入和输出可以有很多不一样的设计。\n",
    "-   表达式求值可以抽象为一个 *字符串 → 浮点数* 的 *映射* ，这是一个输入明确、输出唯一、逻辑确定的映射关系，易于验证、易于复用，我们可以称之为一种 *算法* 。\n",
    "\n",
    "扩展思考：如何实现一个高度可复用的 *表达式求值* 算法？\n",
    "\n",
    "**例题2**：*枪手博弈问题*\n",
    "\n",
    "设想一个角色扮演游戏，彼此痛恨的甲、乙、丙三个枪手准备决斗。甲枪法最好，十发八中；乙枪法次之，十发六中；丙枪法最差，十发四中。\n",
    "\n",
    "1.  如果三人同时开枪，并且每人只发一枪，谁活下来的机会大一些？\n",
    "2.  如果持续多轮决斗，每轮都如(1)所述进行，谁最可能是最后活下来的？\n",
    "\n",
    "扩展思考：如果附加下面条件之一或全部，结果会有什么不同：\n",
    "\n",
    "1.  按照甲、乙、丙、甲、乙、丙…的顺序轮流开枪，直到决斗场剩下最后一个人；\n",
    "2.  每个人的弹数具有相同的上限；\n",
    "3.  任何一人可以选择放空枪，从而不打中任何一个人。\n",
    "\n",
    "**分析**：这类有明确规则的游戏，非常适合通过 *程序模拟* 来寻找答案。\n",
    "\n",
    "-   将参与游戏的玩家抽象为对象 `player`，具有诸如 *存活状态* *命中率* *总弹数* *剩余弹数* 等属性，还有 *选择目标* *开枪* 等行为（方法）；\n",
    "-   将每局模拟游戏抽象为对象 `game`，具有 *总人数* *参与玩家* *存活玩家* *每人总弹数* 等属性，还有 *添加玩家* *移除玩家* *进行一轮决斗* *进行一局游戏* 等行为（方法）；\n",
    "-   通过这两个对象（主要是 `game` 对象）将游戏的 *规则体系* 表达出来。\n",
    "\n",
    "**例题3**：*费米问题*\n",
    "\n",
    "著名的物理学家、诺贝尔奖得主费米，喜欢给自己的学生出一些看上去无从下手的问题，其实是考察学生从常识出发进行近似数值估算的能力。一个广为流传的例子是“芝加哥调琴师”问题：\n",
    "\n",
    "> 在芝加哥这座城市当中，存在着多少钢琴调音师？\n",
    "\n",
    "**分析**：费米自己给出的大致思路如下：\n",
    "\n",
    "-   首先要确定的是芝加哥这座城市的人口。\n",
    "    由于不能使用统计数据，所以我们无法获得精确的数据，不过没关系，我们大致知道芝加哥的人口数量在百万级，那就假设有一百万人。\n",
    "-   然后确定钢琴数量。\n",
    "    平均十人拥有一架钢琴多了一点，平均一千人拥有一架钢琴又少了一点，所以数量级应该在百这个数量级，我们就假设平均一百人拥有一架钢琴，那么芝加哥这座城市大约有一万架钢琴。\n",
    "-   最后推算调琴师数量。\n",
    "    直接通过钢琴数量估计调音师的数量好像不太容易，可以换一个思路，想想一个调琴师大概可以照顾多少钢琴。假定每台钢琴每年需要调音一次，那么一万架钢琴每年需要调音一万次；接着我们估计一个调音师一年能照顾的钢琴数量，只估算数量级，按一年工作200天算，即使每天都有活，一年能调的钢琴数量也不会超过一千，也就是说数量级应该在“百”，我们可以就按照一个调音师一年照顾100架钢琴计算，于是需要大约100个调音师才能照顾所有的一万架钢琴。\n",
    "\n",
    "那个年代还没有互联网，于是费米的学生们去查了全市的电话簿，最后确认芝加哥总共有81位钢琴调音师，这个数字和估算得到的100非常接近。"
   ]
  },
  {
   "cell_type": "markdown",
   "metadata": {},
   "source": [
    "## 2 函数抽象"
   ]
  },
  {
   "cell_type": "markdown",
   "metadata": {},
   "source": [
    "### 2.1 表达式求值"
   ]
  },
  {
   "cell_type": "markdown",
   "metadata": {},
   "source": [
    "一开始我们可能没有头绪，没关系可以使用搜索引擎来学习表达式求值的实现思路，但是今天我们有更好的办法，我们来问问生成式人工智能聊天机器人（以下对话复制自与 ChatGLM-4 系统的交互，之后如无特殊说明均类似）："
   ]
  },
  {
   "cell_type": "markdown",
   "metadata": {},
   "source": [
    "**==== 与 ChatGLM 系统（基于 GLM-4 大语言模型）的交互开始 ====**"
   ]
  },
  {
   "cell_type": "markdown",
   "metadata": {},
   "source": [
    "**【问】** 如何用 Python 实现一个表达式求值的函数，输入是四则运算表达式（允许使用整数、小数、四则运算符和括号），输出这个表达式运算的结果？"
   ]
  },
  {
   "cell_type": "markdown",
   "metadata": {},
   "source": [
    "**【答】** 在 Python 中实现一个简单的四则运算表达式求值函数，可以使用内置的 `eval()` 函数，但这种方法存在安全风险，因为它会执行所有的 Python 代码。因此，一个更安全的方法是使用第三方库如 `numpy`，或者编写一个解析器来手动计算表达式。\n",
    "\n",
    "下面是一个简单的实现，使用 `eval()` 函数："
   ]
  },
  {
   "cell_type": "code",
   "execution_count": null,
   "metadata": {},
   "outputs": [],
   "source": [
    "def evaluate_expression(expression):\n",
    "    try:\n",
    "        result = eval(expression)\n",
    "        return result\n",
    "    except Exception as e:\n",
    "        return str(e)\n",
    "    \n",
    "# 使用示例\n",
    "expression = \"3 + 4 * 2\"\n",
    "print(evaluate_expression(expression))  # 输出：11"
   ]
  },
  {
   "cell_type": "markdown",
   "metadata": {},
   "source": [
    "但是，为了安全起见，我们可以使用栈来手动解析表达式。以下是一个简单的实现，只支持整数和基本的四则运算："
   ]
  },
  {
   "cell_type": "code",
   "execution_count": null,
   "metadata": {},
   "outputs": [],
   "source": [
    "def evaluate_expression(expression):\n",
    "    def operate(a, b, op):\n",
    "        if op == '+':\n",
    "            return a + b\n",
    "        elif op == '-':\n",
    "            return a - b\n",
    "        elif op == '*':\n",
    "            return a * b\n",
    "        elif op == '/':\n",
    "            return a / b\n",
    "\n",
    "    def precedence(op):\n",
    "        if op in ('+', '-'):\n",
    "            return 1\n",
    "        if op in ('*', '/'):\n",
    "            return 2\n",
    "        return 0\n",
    "\n",
    "    num_stack = []\n",
    "    op_stack = []\n",
    "\n",
    "    i = 0\n",
    "    while i < len(expression):\n",
    "        if expression[i].isdigit() or expression[i] == '.':\n",
    "            j = i\n",
    "            while j < len(expression) and (expression[j].isdigit() or expression[j] == '.'):\n",
    "                j += 1\n",
    "            num_stack.append(float(expression[i:j]))\n",
    "            i = j\n",
    "        elif expression[i] in \"+-*/\":\n",
    "            while (op_stack and\n",
    "                   precedence(op_stack[-1]) >= precedence(expression[i])):\n",
    "                num2 = num_stack.pop()\n",
    "                num1 = num_stack.pop()\n",
    "                op = op_stack.pop()\n",
    "                num_stack.append(operate(num1, num2, op))\n",
    "            op_stack.append(expression[i])\n",
    "            i += 1\n",
    "        elif expression[i] == ' ':\n",
    "            i += 1\n",
    "        else:\n",
    "            return \"Invalid character\"\n",
    "\n",
    "    while op_stack:\n",
    "        num2 = num_stack.pop()\n",
    "        num1 = num_stack.pop()\n",
    "        op = op_stack.pop()\n",
    "        num_stack.append(operate(num1, num2, op))\n",
    "\n",
    "    return num_stack[0]\n",
    "\n",
    "# 使用示例\n",
    "expression = \"3 + 4 * 2\"\n",
    "print(evaluate_expression(expression))  # 输出：11"
   ]
  },
  {
   "cell_type": "markdown",
   "metadata": {},
   "source": [
    "这个实现使用两个栈：一个用于数值，另一个用于操作符。它按照运算符的优先级来计算表达式的值。这个实现只支持整数和小数的四则运算，并且假设输入的表达式是合法的。在实际应用中，你可能需要添加更多的错误检查和功能。"
   ]
  },
  {
   "cell_type": "markdown",
   "metadata": {},
   "source": [
    "**【问】** `evaluate_expression` 未能支持括号，如果要支持括号，可以如何改进？"
   ]
  },
  {
   "cell_type": "markdown",
   "metadata": {},
   "source": [
    "**【答】** 要支持括号，我们需要修改解析逻辑来处理括号内的表达式。我们可以使用递归来处理括号，或者使用栈来跟踪括号。下面是一个修改后的版本，使用栈来处理括号："
   ]
  },
  {
   "cell_type": "code",
   "execution_count": null,
   "metadata": {},
   "outputs": [],
   "source": [
    "def evaluate_expression(expression):\n",
    "    def operate(a, b, op):\n",
    "        if op == '+':\n",
    "            return a + b\n",
    "        elif op == '-':\n",
    "            return a - b\n",
    "        elif op == '*':\n",
    "            return a * b\n",
    "        elif op == '/':\n",
    "            return a / b\n",
    "\n",
    "    def precedence(op):\n",
    "        if op in ('+', '-'):\n",
    "            return 1\n",
    "        if op in ('*', '/'):\n",
    "            return 2\n",
    "        return 0\n",
    "\n",
    "    def parse_expression(expression):\n",
    "        num_stack = []\n",
    "        op_stack = []\n",
    "\n",
    "        i = 0\n",
    "        while i < len(expression):\n",
    "            if expression[i].isdigit() or expression[i] == '.':\n",
    "                j = i\n",
    "                while j < len(expression) and (expression[j].isdigit() or expression[j] == '.'):\n",
    "                    j += 1\n",
    "                num_stack.append(float(expression[i:j]))\n",
    "                i = j\n",
    "            elif expression[i] in \"+-*/\":\n",
    "                while (op_stack and\n",
    "                       precedence(op_stack[-1]) >= precedence(expression[i])):\n",
    "                    num2 = num_stack.pop()\n",
    "                    num1 = num_stack.pop()\n",
    "                    op = op_stack.pop()\n",
    "                    num_stack.append(operate(num1, num2, op))\n",
    "                op_stack.append(expression[i])\n",
    "                i += 1\n",
    "            elif expression[i] == '(':\n",
    "                j = i\n",
    "                count = 1\n",
    "                while count > 0:\n",
    "                    j += 1\n",
    "                    if expression[j] == '(':\n",
    "                        count += 1\n",
    "                    elif expression[j] == ')':\n",
    "                        count -= 1\n",
    "                num_stack.append(parse_expression(expression[i+1:j]))\n",
    "                i = j + 1\n",
    "            elif expression[i] == ' ':\n",
    "                i += 1\n",
    "            else:\n",
    "                return \"Invalid character\"\n",
    "\n",
    "        while op_stack:\n",
    "            num2 = num_stack.pop()\n",
    "            num1 = num_stack.pop()\n",
    "            op = op_stack.pop()\n",
    "            num_stack.append(operate(num1, num2, op))\n",
    "\n",
    "        return num_stack[0]\n",
    "\n",
    "    return parse_expression(expression)\n",
    "\n",
    "# 使用示例\n",
    "expression = \"(3 + 4) * 2\"\n",
    "print(evaluate_expression(expression))  # 输出：14"
   ]
  },
  {
   "cell_type": "markdown",
   "metadata": {},
   "source": [
    "在这个版本中，我们添加了一个新的函数 `parse_expression` ，它负责解析整个表达式。当遇到左括号时，它会递归地调用自身来解析括号内的表达式，直到找到匹配的右括号。这样，我们就能够正确地处理嵌套的括号和括号内的运算顺序。"
   ]
  },
  {
   "cell_type": "markdown",
   "metadata": {},
   "source": [
    "**【问】** 能否更细致地解释一下 `evaluate_expression` 中如何解析输入的表达式，将其转换为两个堆栈（操作数与操作符），后面又如何利用这两个堆栈来做多步的求值计算？"
   ]
  },
  {
   "cell_type": "markdown",
   "metadata": {},
   "source": [
    "**【答】** 当然可以。`evaluate_expression` 函数的工作原理是基于逆波兰表示法（也称为后缀表示法）的计算逻辑。但是，它直接从中缀表达式（即我们通常写的表达式形式）开始，逐步转换为后缀表示法，并立即计算结果。这个过程分为几个主要步骤：\n",
    "1.  **初始化堆栈**：我们创建了两个空列表 `num_stack` 和 `op_stack` 来分别存储操作数和操作符。\n",
    "2.  **遍历表达式**：我们使用一个循环来遍历输入的表达式字符串。\n",
    "3.  **解析操作数**：当遇到一个数字或小数点时，我们会找到整个数字（可能包含小数点），并将其转换为浮点数，然后将其推入 `num_stack`。\n",
    "4.  **解析操作符**：当遇到一个操作符（`+` 、 `-` 、 `*` 、 `/`）时，我们需要考虑运算符的优先级。如果当前操作符的优先级低于或等于 `op_stack` 栈顶的操作符，我们需要先计算栈顶的操作符。这是因为栈顶的操作符具有更高的优先级或同等的优先级，应该先进行计算。我们重复这个过程，直到栈为空或者栈顶的操作符优先级更低。\n",
    "5.  **处理括号**：当遇到左括号 `(` 时，我们需要找到匹配的右括号 `)`，并将括号内的表达式作为子表达式递归地处理。递归调用 `parse_expression` 函数来计算括号内的值，并将结果作为一个操作数推入 `num_stack`。\n",
    "6.  **计算结果**：在遍历完整个表达式后，`op_stack` 中可能还有剩余的操作符。我们需要对它们进行计算。由于此时栈中的操作符具有最高的优先级，我们可以直接从栈中弹出操作符和操作数，进行计算，并将结果推回 `num_stack`。\n",
    "7.  **返回结果**：最后，`num_stack` 中应该只剩下一个元素，这就是整个表达式的计算结果。\n",
    "\n",
    "这个过程确保了正确的运算顺序，并且能够处理包含括号的复杂表达式。通过这种方式，我们不需要将整个表达式转换为后缀表示法，而是边解析边计算，从而提高了效率。"
   ]
  },
  {
   "cell_type": "markdown",
   "metadata": {},
   "source": [
    "**==== 与 ChatGLM 系统（基于 GLM-4 大语言模型）的交互结束 ====**"
   ]
  },
  {
   "cell_type": "markdown",
   "metadata": {},
   "source": [
    "我们实际运算后一个版本的 `evaluate_expression` 函数可以发现，它能很好的满足我们的需要。在此基础上，我们还可以：\n",
    "\n",
    "1.  学习 AI 给出的代码中对 *堆栈* 数据结构的使用，然后丢掉现成的实现，用此思路自己做一遍；\n",
    "2.  在此基础上扩展功能，支持更多的运算符（比如百分号、乘方、对数和三角函数等）。\n",
    "\n",
    "这些就留给大家自己去尝试。记住，把你能用的工具都尽量用起来。"
   ]
  },
  {
   "cell_type": "markdown",
   "metadata": {},
   "source": [
    "### 2.2 枪手博弈模拟游戏"
   ]
  },
  {
   "cell_type": "markdown",
   "metadata": {},
   "source": [
    "这个课题比较简单，参考前面的分析，以及大家到目前为止掌握的基础，应该不难解决，我们就将此作为练习吧。"
   ]
  },
  {
   "cell_type": "markdown",
   "metadata": {},
   "source": [
    "## 3 数据抽象"
   ]
  },
  {
   "cell_type": "markdown",
   "metadata": {},
   "source": [
    "数据的抽象有多种不同的场景，本章我们重点看两个：一个是正确理解数据进而进行分析的场景，另一个则是将不同业务数据的共性抽取出来变成通用 *数据结构*。我们通过两个实例来分别学习这两类场景。"
   ]
  },
  {
   "cell_type": "markdown",
   "metadata": {},
   "source": [
    "### 3.1 春运数据2024"
   ]
  },
  {
   "cell_type": "markdown",
   "metadata": {},
   "source": [
    "数据分析的抽象，我们基于的这个案例来自一篇热门公众号文章：[返程了，但今年春运数据吓我一跳](https://mp.weixin.qq.com/s/Mg42GYpAdTD-ZHTEFtzzeg)。\n",
    "\n",
    "首先，一篇充满数据和图表的文章能够获得十万+的阅读量，是不容易的，说明选择了很好的主题，并且呈现的形式也足够吸引人。但从我们学习和研究的角度，我们需要更深入地来看，然后就会发现，这里面有不少数据抽象的 *经典错误*：\n",
    "-   数据的来源和口径要非常清晰明确。\n",
    "-   不同单位的数据不能进行比较，比如 *人数* 和 *人次*。\n",
    "-   不能假定一组数据的分布是平均的，但 *时序数据* 经常具有周期性，比如今年大年初一的数据和去年大年初一的数据是可比的，初二、初三等也是。\n",
    "-   分析数据应该先总后分，先看总量的变化、分布等特征，然后再细分到不同的时间、分类等维度上，后者通常是为了“找原因”。\n",
    "-   尽量不要在一个表格中混杂多个分析主题，比如想分析每年春运的高峰期，那就重点看时间（以大年初一为原点）和出行量的关联关系；如果要看不同出行方式的占比，那就看总量与部分的关系；如果要看不同出行方式在各年的不同表现，就用部分占比的历年变动量（增减）；如果把上述数据都放在一起，多半没有意义。\n",
    "-   在分析数据的规律时，正确选择的图表远比表格好用。\n",
    "-   不可对巨大的变化视而不见，比如水运占比2024年比2019年有大幅减少，文中简单表述为“这个不难理解，水运时代早就被陆运接棒”，可这不过是五年前的数据，何谈“早就”？并且，这个变化到底是怎么发生的呢？是逐年减少还是某年锐减？原因为何？都没有分析，这不是一个老练的数据分析师会采取的做法。\n",
    "\n",
    "而我们做数据分析的 *最佳实践* 通常是这样的：\n",
    "-   基于目标和领域特点来初步确定分析主题，如果分析主题很多，可以根据核心口径进行分类；\n",
    "-   通过初步的数据浏览和数据统计来扩展、优化分析主题；\n",
    "-   针对每个分析主题构造分析模型，落实模型中所需要的数据；\n",
    "-   基于分析模型的结果，结合领域知识，做出合理的解释，并在合理假设前提下进行有价值的预测。\n",
    "\n",
    "现在让我们丢开上面那篇热门网文，想想如果我们来写一份关于2024年春运数据的报告，我们会怎么写？"
   ]
  },
  {
   "cell_type": "markdown",
   "metadata": {},
   "source": [
    "### 3.2 状态与状态机"
   ]
  },
  {
   "cell_type": "markdown",
   "metadata": {},
   "source": [
    "数据结构的抽象，请直接学习上学期教材中跳过的 [有限状态机](https://github.com/neolee/wop/blob/master/p2-b-fsm.ipynb) 一章，这是一个非常经典的案例，说明一些看似没有关联的问题，其背后的本质其实是高度一致的，可以抽象为一个数据结构来解决。"
   ]
  }
 ],
 "metadata": {
  "kernelspec": {
   "display_name": "",
   "name": ""
  },
  "language_info": {
   "name": "python"
  }
 },
 "nbformat": 4,
 "nbformat_minor": 4
}
